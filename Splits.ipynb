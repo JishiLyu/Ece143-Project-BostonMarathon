{
 "cells": [
  {
   "cell_type": "code",
   "execution_count": 1,
   "metadata": {},
   "outputs": [],
   "source": [
    "import csv\n",
    "import pandas as pd\n",
    "import numpy as np\n",
    "from pandas import Series, DataFrame"
   ]
  },
  {
   "cell_type": "code",
   "execution_count": 3,
   "metadata": {},
   "outputs": [],
   "source": [
    "data2015 = pd.read_csv('marathon_results_2015.csv')"
   ]
  },
  {
   "cell_type": "code",
   "execution_count": 9,
   "metadata": {},
   "outputs": [
    {
     "data": {
      "text/plain": [
       "Index(['Unnamed: 0', 'Bib', 'Name', 'Age', 'M/F', 'City', 'State', 'Country',\n",
       "       'Citizen', 'Unnamed: 9', '5K', '10K', '15K', '20K', 'Half', '25K',\n",
       "       '30K', '35K', '40K', 'Pace', 'Proj Time', 'Official Time', 'Overall',\n",
       "       'Gender', 'Division'],\n",
       "      dtype='object')"
      ]
     },
     "execution_count": 9,
     "metadata": {},
     "output_type": "execute_result"
    }
   ],
   "source": [
    "data2015.columns"
   ]
  },
  {
   "cell_type": "code",
   "execution_count": 14,
   "metadata": {},
   "outputs": [
    {
     "name": "stdout",
     "output_type": "stream",
     "text": [
      "<class 'pandas.core.frame.DataFrame'>\n",
      "RangeIndex: 26598 entries, 0 to 26597\n",
      "Data columns (total 25 columns):\n",
      "Unnamed: 0       26598 non-null int64\n",
      "Bib              26598 non-null object\n",
      "Name             26598 non-null object\n",
      "Age              26598 non-null int64\n",
      "M/F              26598 non-null object\n",
      "City             26598 non-null object\n",
      "State            24047 non-null object\n",
      "Country          26598 non-null object\n",
      "Citizen          1064 non-null object\n",
      "Unnamed: 9       67 non-null object\n",
      "5K               26598 non-null object\n",
      "10K              26598 non-null object\n",
      "15K              26598 non-null object\n",
      "20K              26598 non-null object\n",
      "Half             26598 non-null object\n",
      "25K              26598 non-null object\n",
      "30K              26598 non-null object\n",
      "35K              26598 non-null object\n",
      "40K              26598 non-null object\n",
      "Pace             26598 non-null object\n",
      "Proj Time        26598 non-null object\n",
      "Official Time    26598 non-null object\n",
      "Overall          26598 non-null int64\n",
      "Gender           26598 non-null int64\n",
      "Division         26598 non-null int64\n",
      "dtypes: int64(5), object(20)\n",
      "memory usage: 5.1+ MB\n"
     ]
    }
   ],
   "source": [
    "data2015.info()"
   ]
  },
  {
   "cell_type": "code",
   "execution_count": 16,
   "metadata": {},
   "outputs": [],
   "source": [
    "timeData2015 = data2015[['Bib','Age','M/F','Half', 'Official Time']]"
   ]
  },
  {
   "cell_type": "code",
   "execution_count": 18,
   "metadata": {},
   "outputs": [],
   "source": [
    "timeData2015 = timeData2015[ ~ timeData2015['Half'].str.contains('-')]"
   ]
  },
  {
   "cell_type": "code",
   "execution_count": 19,
   "metadata": {},
   "outputs": [],
   "source": [
    "timeData2015 = timeData2015[ ~ timeData2015['Official Time'].str.contains('-')]"
   ]
  },
  {
   "cell_type": "code",
   "execution_count": 39,
   "metadata": {},
   "outputs": [],
   "source": [
    "timeData2015['Official Time']= pd.to_timedelta(timeData2015['Official Time'])\n",
    "timeData2015['Half']= pd.to_timedelta(timeData2015['Half'])"
   ]
  },
  {
   "cell_type": "code",
   "execution_count": 41,
   "metadata": {},
   "outputs": [
    {
     "data": {
      "text/html": [
       "<div>\n",
       "<style scoped>\n",
       "    .dataframe tbody tr th:only-of-type {\n",
       "        vertical-align: middle;\n",
       "    }\n",
       "\n",
       "    .dataframe tbody tr th {\n",
       "        vertical-align: top;\n",
       "    }\n",
       "\n",
       "    .dataframe thead th {\n",
       "        text-align: right;\n",
       "    }\n",
       "</style>\n",
       "<table border=\"1\" class=\"dataframe\">\n",
       "  <thead>\n",
       "    <tr style=\"text-align: right;\">\n",
       "      <th></th>\n",
       "      <th>Bib</th>\n",
       "      <th>Age</th>\n",
       "      <th>M/F</th>\n",
       "      <th>Half</th>\n",
       "      <th>Official Time</th>\n",
       "    </tr>\n",
       "  </thead>\n",
       "  <tbody>\n",
       "    <tr>\n",
       "      <th>17349</th>\n",
       "      <td>22676</td>\n",
       "      <td>65</td>\n",
       "      <td>M</td>\n",
       "      <td>01:54:00</td>\n",
       "      <td>03:53:32</td>\n",
       "    </tr>\n",
       "    <tr>\n",
       "      <th>9492</th>\n",
       "      <td>8962</td>\n",
       "      <td>42</td>\n",
       "      <td>M</td>\n",
       "      <td>01:41:50</td>\n",
       "      <td>03:28:15</td>\n",
       "    </tr>\n",
       "    <tr>\n",
       "      <th>13011</th>\n",
       "      <td>11350</td>\n",
       "      <td>46</td>\n",
       "      <td>M</td>\n",
       "      <td>01:48:21</td>\n",
       "      <td>03:38:48</td>\n",
       "    </tr>\n",
       "    <tr>\n",
       "      <th>25325</th>\n",
       "      <td>29594</td>\n",
       "      <td>28</td>\n",
       "      <td>F</td>\n",
       "      <td>02:23:58</td>\n",
       "      <td>05:10:15</td>\n",
       "    </tr>\n",
       "    <tr>\n",
       "      <th>15018</th>\n",
       "      <td>21893</td>\n",
       "      <td>51</td>\n",
       "      <td>F</td>\n",
       "      <td>01:49:51</td>\n",
       "      <td>03:45:15</td>\n",
       "    </tr>\n",
       "  </tbody>\n",
       "</table>\n",
       "</div>"
      ],
      "text/plain": [
       "         Bib  Age M/F     Half Official Time\n",
       "17349  22676   65   M 01:54:00      03:53:32\n",
       "9492    8962   42   M 01:41:50      03:28:15\n",
       "13011  11350   46   M 01:48:21      03:38:48\n",
       "25325  29594   28   F 02:23:58      05:10:15\n",
       "15018  21893   51   F 01:49:51      03:45:15"
      ]
     },
     "execution_count": 41,
     "metadata": {},
     "output_type": "execute_result"
    }
   ],
   "source": [
    "timeData2015.sample(5)"
   ]
  },
  {
   "cell_type": "code",
   "execution_count": 42,
   "metadata": {},
   "outputs": [],
   "source": [
    "timeData2015['Second Half']=timeData2015['Official Time']-timeData2015['Half']"
   ]
  },
  {
   "cell_type": "code",
   "execution_count": 43,
   "metadata": {},
   "outputs": [
    {
     "data": {
      "text/html": [
       "<div>\n",
       "<style scoped>\n",
       "    .dataframe tbody tr th:only-of-type {\n",
       "        vertical-align: middle;\n",
       "    }\n",
       "\n",
       "    .dataframe tbody tr th {\n",
       "        vertical-align: top;\n",
       "    }\n",
       "\n",
       "    .dataframe thead th {\n",
       "        text-align: right;\n",
       "    }\n",
       "</style>\n",
       "<table border=\"1\" class=\"dataframe\">\n",
       "  <thead>\n",
       "    <tr style=\"text-align: right;\">\n",
       "      <th></th>\n",
       "      <th>Bib</th>\n",
       "      <th>Age</th>\n",
       "      <th>M/F</th>\n",
       "      <th>Half</th>\n",
       "      <th>Official Time</th>\n",
       "      <th>Second Half</th>\n",
       "    </tr>\n",
       "  </thead>\n",
       "  <tbody>\n",
       "    <tr>\n",
       "      <th>25904</th>\n",
       "      <td>31539</td>\n",
       "      <td>23</td>\n",
       "      <td>F</td>\n",
       "      <td>02:25:22</td>\n",
       "      <td>05:27:59</td>\n",
       "      <td>03:02:37</td>\n",
       "    </tr>\n",
       "    <tr>\n",
       "      <th>13229</th>\n",
       "      <td>7574</td>\n",
       "      <td>49</td>\n",
       "      <td>M</td>\n",
       "      <td>01:35:48</td>\n",
       "      <td>03:39:27</td>\n",
       "      <td>02:03:39</td>\n",
       "    </tr>\n",
       "    <tr>\n",
       "      <th>21335</th>\n",
       "      <td>18674</td>\n",
       "      <td>35</td>\n",
       "      <td>F</td>\n",
       "      <td>02:01:02</td>\n",
       "      <td>04:15:50</td>\n",
       "      <td>02:14:48</td>\n",
       "    </tr>\n",
       "    <tr>\n",
       "      <th>17643</th>\n",
       "      <td>21171</td>\n",
       "      <td>44</td>\n",
       "      <td>F</td>\n",
       "      <td>01:51:08</td>\n",
       "      <td>03:54:37</td>\n",
       "      <td>02:03:29</td>\n",
       "    </tr>\n",
       "    <tr>\n",
       "      <th>20068</th>\n",
       "      <td>25114</td>\n",
       "      <td>58</td>\n",
       "      <td>F</td>\n",
       "      <td>02:02:23</td>\n",
       "      <td>04:07:08</td>\n",
       "      <td>02:04:45</td>\n",
       "    </tr>\n",
       "  </tbody>\n",
       "</table>\n",
       "</div>"
      ],
      "text/plain": [
       "         Bib  Age M/F     Half Official Time Second Half\n",
       "25904  31539   23   F 02:25:22      05:27:59    03:02:37\n",
       "13229   7574   49   M 01:35:48      03:39:27    02:03:39\n",
       "21335  18674   35   F 02:01:02      04:15:50    02:14:48\n",
       "17643  21171   44   F 01:51:08      03:54:37    02:03:29\n",
       "20068  25114   58   F 02:02:23      04:07:08    02:04:45"
      ]
     },
     "execution_count": 43,
     "metadata": {},
     "output_type": "execute_result"
    }
   ],
   "source": [
    "timeData2015.sample(5)"
   ]
  },
  {
   "cell_type": "code",
   "execution_count": null,
   "metadata": {},
   "outputs": [],
   "source": []
  }
 ],
 "metadata": {
  "kernelspec": {
   "display_name": "Python 3",
   "language": "python",
   "name": "python3"
  },
  "language_info": {
   "codemirror_mode": {
    "name": "ipython",
    "version": 3
   },
   "file_extension": ".py",
   "mimetype": "text/x-python",
   "name": "python",
   "nbconvert_exporter": "python",
   "pygments_lexer": "ipython3",
   "version": "3.6.5"
  }
 },
 "nbformat": 4,
 "nbformat_minor": 2
}
